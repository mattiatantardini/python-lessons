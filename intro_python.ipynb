{
 "cells": [
  {
   "cell_type": "markdown",
   "metadata": {
    "id": "TA7-U-5APAaw"
   },
   "source": [
    "# Python Fundamentals\n",
    "\n",
    "Questo documento vuole essere una breve introduzione ad alcuni concetti necessari per poter utilizzare efficacemente gli strumenti di **Python** e **Jupyter Notebook** al fine di risolvere problemi inerenti alla Data Science.\n",
    "\n",
    "Per fare questo, saranno illustrati alcuni concetti base, fondamentali per l'esecuzione dei comandi che si vogliono imporre al computer.\n",
    "Questo spazio sarà anche dedicato a creare un gergo comune, per chiunque non fosse a suo agio con i termini tipici di questo ambiente.\n",
    "\n"
   ]
  },
  {
   "cell_type": "markdown",
   "metadata": {
    "id": "Y40gtVc3PxhL"
   },
   "source": [
    "## Python\n",
    "\n",
    "Python è un linguaggio di programmazione. Le sue caratteristiche principali sono:\n",
    "* è un linguaggio *interpretato*, il che vuol dire che il computer esegue i comandi non appena noi glieli inviamo. Si dice anche che è un linguaggio di *scripting*, nel senso che tu **gli dai una serie di comandi in sequenza e lui li esegue in quell'ordine, uno per uno, tenendo traccia dello stato** di volta in volta\n",
    "* è la lingua franca della Data Science perchè è inserito in un ecosistema ricchissimo di librerie. Vedremo quindi che si farà ampio uso di alcune librerie standard.\n"
   ]
  },
  {
   "cell_type": "markdown",
   "metadata": {
    "id": "fDR4s7vxRjz2"
   },
   "source": [
    "## Jupyter Notebook\n",
    "\n",
    "I Notebook Jupyter sono questo modo particolare di scrivere codice Python. Come vedremo tra poco, è possibile organizzare il codice in blocchi che vengono eseguiti uno ad uno, in modo da tenere traccia dei cambiamento che stiamo facendo più facilmente e da permettere un utilizzo dello strumento **molto interattivo**.\n",
    "\n",
    "Se necessario infatti possiamo in qualsiasi momento dividere i blocchi, spostarli o modificarli per capire cosa sta facendo il nostro codice o ispezionarne i prodotti per poi decidere come continuare.\n",
    "\n",
    "Per eseguire una cella di codice si usa la scorciatoia da tastiera *shift+invio*.\n"
   ]
  },
  {
   "cell_type": "markdown",
   "metadata": {},
   "source": [
    "### Google Colab\n",
    "[Google Colab](https://colab.research.google.com/) è una particolare versione dei notebook che stiamo utilizzando, mantenuta da Google. È utile perchè evita la preparazione di un ambiente di sviluppo vero e proprio, probabilmente su Linux; l'ambiente viene invece creato su richiesta e gestito direttamente da Google. I dati che vogliamo utilizzare devono essere caricati in questo ambiente, ed è possibile ad esempio tramite Google Drive. Questo implica che il codice che scriviamo (e i dati che carichiamo!) è eseguito su macchine virtuali nei server di Google. Se, per una questione di riservatezza, è un problema caricare i dati sull'infrastruttura Google, internet è pieno di tutorial su come creare un ambiente di sviluppo Python praticamente ovunque (Windows, Linux, Mac...)."
   ]
  },
  {
   "cell_type": "markdown",
   "metadata": {
    "id": "R3PsbBDKX4Fd"
   },
   "source": [
    "## Python essentials\n",
    "\n",
    "Ok, lanciamoci in alcuni concetti base di Python."
   ]
  },
  {
   "cell_type": "markdown",
   "metadata": {},
   "source": [
    "Innanzitutto, i commenti in python possono essere scritti in due modi:\n"
   ]
  },
  {
   "cell_type": "code",
   "execution_count": null,
   "metadata": {},
   "outputs": [],
   "source": [
    "# Con il cancelletto / hashtag, se i commenti sono su una sola riga di codice\n",
    "\n",
    "'''\n",
    "Oppure con i tripli apici,\n",
    "che permettono di fare commenti\n",
    "su più righe\n",
    "'''"
   ]
  },
  {
   "cell_type": "markdown",
   "metadata": {},
   "source": [
    "Introduciamo le variabili e il concetto di asseganzione"
   ]
  },
  {
   "cell_type": "code",
   "execution_count": null,
   "metadata": {
    "id": "6HgTq5AtO9Td"
   },
   "outputs": [],
   "source": [
    "# Questa è un'assegnazione\n",
    "a = 20 # a è una variabile"
   ]
  },
  {
   "cell_type": "markdown",
   "metadata": {
    "id": "q3F1tGNefr8O"
   },
   "source": [
    "Con questo comando abbiamo *assegnato* alla lettera \"a\" il valore 5. Questo fa di \"a\" un *intero*, almeno al momento. Essenzialmente abbiamo detto a Python che per noi il numero 5 lo possiamo chiamare anche \"a\". \n",
    "\n",
    "**N.B.** \"a\" *punta* a 5, **non** è diventato 5.\n",
    "\n",
    "**N.B.** i *tipi* di variabile (intero, stringa, ecc) esistono anche in Python, ma è comunque un linguaggio *tipizzato dinamicamente* perché non è necessario dichiarare il tipo di una variabile. Il tipo viene inferito dinamicamente. Questo rende Python molto malleabile, anche se a volte questa libertà può causare qualche mal di testa.."
   ]
  },
  {
   "cell_type": "code",
   "execution_count": null,
   "metadata": {
    "colab": {
     "base_uri": "https://localhost:8080/"
    },
    "id": "Q8hf-e9xfqzT",
    "outputId": "e9c9d082-c2e1-45ec-ca76-aa8b23d4019d"
   },
   "outputs": [],
   "source": [
    "a + 5"
   ]
  },
  {
   "cell_type": "markdown",
   "metadata": {
    "id": "oHQv4dQuiIb4"
   },
   "source": [
    "Se scriviamo un codice che fornisce un risultato in una cella da solo, l'ambiente ci mostra il risultato senza dover specificare nient'altro.\n",
    "\n",
    "Altrimenti dobbiamo usare la *funzione* `print()` oppure la funzione `display()`:"
   ]
  },
  {
   "cell_type": "code",
   "execution_count": null,
   "metadata": {
    "colab": {
     "base_uri": "https://localhost:8080/"
    },
    "id": "ECYsTt4KiHW7",
    "outputId": "fe286571-a5e7-4ecf-95da-fdb7fee6a822"
   },
   "outputs": [],
   "source": [
    "a + 3\n",
    "print(a+5)\n",
    "print(a-2)\n",
    "display(a + 3)"
   ]
  },
  {
   "cell_type": "markdown",
   "metadata": {
    "id": "Rn4DzDe8ip5M"
   },
   "source": [
    "A proposito di *funzioni*: una funzione è una trasformazione completamente definita da noi. Prende in ingresso degli input, chiamati *argomenti*, e restituisce degli output. Le funzioni si dice che vengono \"chiamate\" e sono caratterizzate da delle parentesi tonde alla fine che possono contenere gli argomenti."
   ]
  },
  {
   "cell_type": "code",
   "execution_count": null,
   "metadata": {
    "id": "6IaPj5ODignr"
   },
   "outputs": [],
   "source": [
    "def moltiplica_per_due(numero_in_input):\n",
    "    output = numero_in_input * 2\n",
    "    return output"
   ]
  },
  {
   "cell_type": "markdown",
   "metadata": {},
   "source": [
    "Osserviamo una **caratteristica sintattica** di python molto importante. La definizione di una funzione, cioè il codice che descrive ciò che fa, si dice che costituisce lo *scope* di quella funzione. In python, lo *scope* è identificato semplicemente dall'**indentazione**, a differenza di altri linguaggi che fanno un uso profuso di parentesi di vario tipo. Questa caratteristica è un punto di forza di python, che rende il codice molto più leggibile e veloce da scrivere, evitando spesso errori dovuti alla presenza di parentesi multiple che chiudono scope innestati.\n",
    "\n",
    "In pratica, quando dichiariamo una funzione con un `def` e dopo i due punti che concludono la dichiarazione della funzione, tutto il codice sottostante che ha un livello di indentazione in più rispetto al `def` costituisce il corpo della funzione e ne definisce lo *scope*.\n",
    "\n",
    "La stessa regola, come vedremo, vale anche per le condizioni `if` e i cicli."
   ]
  },
  {
   "cell_type": "code",
   "execution_count": null,
   "metadata": {
    "colab": {
     "base_uri": "https://localhost:8080/",
     "height": 34
    },
    "id": "1j-QCiizvuD-",
    "outputId": "84a2ad92-8d7a-44fd-c181-09d9de1ab114"
   },
   "outputs": [],
   "source": [
    "moltiplica_per_due(a) # Ricordiamoci che a vale 5 perchè stiamo parlando con lo stesso Python di poco fa"
   ]
  },
  {
   "cell_type": "code",
   "execution_count": null,
   "metadata": {
    "id": "M0cA4XGLgz_h"
   },
   "outputs": [],
   "source": [
    "def calcola_percentuale(numero, totale):\n",
    "    return f\"{round((numero / totale) * 100, 3)} %\""
   ]
  },
  {
   "cell_type": "code",
   "execution_count": null,
   "metadata": {
    "colab": {
     "base_uri": "https://localhost:8080/",
     "height": 34
    },
    "id": "NNk6X4oPg0C1",
    "outputId": "cbb87157-5ab9-474f-be96-712094d40bfe"
   },
   "outputs": [],
   "source": [
    "calcola_percentuale(7, 50)"
   ]
  },
  {
   "cell_type": "markdown",
   "metadata": {},
   "source": [
    "Le funzioni hanno molte possibilità di personalizzazione e di estensione. Una di queste è la possibilità di includere dei parametri con dei valori di default:"
   ]
  },
  {
   "cell_type": "code",
   "execution_count": null,
   "metadata": {},
   "outputs": [],
   "source": [
    "def calcola_percentuale_default(numero, totale = 100):\n",
    "    return f\"{round((numero / totale) * 100, 3)} %\""
   ]
  },
  {
   "cell_type": "code",
   "execution_count": null,
   "metadata": {},
   "outputs": [],
   "source": [
    "print(calcola_percentuale_default(7))\n",
    "print(calcola_percentuale_default(7, 50))"
   ]
  },
  {
   "cell_type": "markdown",
   "metadata": {
    "id": "ruHzNs6BpPyQ"
   },
   "source": [
    "Un altro ingrediente essenziale sono le *strutture dati*. Spesso dobbiamo organizzare i dati in strutture che hanno alcune caratteristiche particolari in base alle necessità. In genere, le strutture dati possono contenere qualsiasi cosa, sono solo metodi di organzzare i dati nel modo più comodo per recuperarli al momento opportuno. Le strutture dati più importanti sono:\n",
    "* Le **liste**. Caratterizzate dalle parentesi quadre, sono elenchi **ordinati** di cose. Sono indicizzate, quindi si può accedere a un elemento utilizzando la sua posizione ordinale.\n",
    "* I **dizionari**. Chiamati anche mappe, sono strutture dati che associano una *chiave* ad un *valore*. Sono caratterizzate dalle parentesi graffe. La chiave è tipicamente una stringa o un intero. Sono intrinsecamente non ordinati, per richiamare i valori all'interno si usa la chiave associata ad essi.\n",
    "* Gli **insiemi** (**set**). Gli insiemi sono strutture **non ordinate** dove i duplicati sono automaticamente rimossi.\n",
    "* Le **tuple**. Sono strutture dati ordinate. Simili alle liste, si comportano in modo lievemente diverso riguardo alla loro mutabilità, una caratteristiche che incontreremo molto raramente. Una delle differenze principali dalle liste, ad esempio, è quella di non poter sostituire un elemento della tupla tramite l'indice ad esso riferito.\n",
    "\n",
    "In base alla struttura dati utilizzata sono disponibili alcune funzioni, per esempio `len()` ci restituisce la lunghezza della struttura dati richiesta.\n",
    "\n",
    "Alcuni esempi di utilizzo:"
   ]
  },
  {
   "cell_type": "code",
   "execution_count": null,
   "metadata": {
    "id": "9c76-Dz9jJXp"
   },
   "outputs": [],
   "source": [
    "# Le liste\n",
    "lista = [\"A\", \"B\", 3]\n",
    "# La lista è identificata dalle parentesi quadre nell'output"
   ]
  },
  {
   "cell_type": "code",
   "execution_count": null,
   "metadata": {
    "colab": {
     "base_uri": "https://localhost:8080/",
     "height": 35
    },
    "id": "FI8LDx1jrKGi",
    "outputId": "9db0a062-9e95-46b0-cc3c-670a4119ed5b"
   },
   "outputs": [],
   "source": [
    "lista[1] # Si conta da 0!"
   ]
  },
  {
   "cell_type": "code",
   "execution_count": null,
   "metadata": {
    "colab": {
     "base_uri": "https://localhost:8080/"
    },
    "id": "_XPkNUTSrLLp",
    "outputId": "83a2f417-2c40-4e64-9847-381fbf589079"
   },
   "outputs": [],
   "source": [
    "len(lista)"
   ]
  },
  {
   "cell_type": "code",
   "execution_count": null,
   "metadata": {
    "id": "tcgXAxO1rMf6"
   },
   "outputs": [],
   "source": [
    "# I dizionari\n",
    "dizionario = {\"chiave1\": \"valore1\", \n",
    "              \"chiave2\": 3, \n",
    "              123456789: 6}\n",
    "dizionario\n",
    "# I dizionari sono identificati dalle parentesi graffe nell'output"
   ]
  },
  {
   "cell_type": "code",
   "execution_count": null,
   "metadata": {
    "colab": {
     "base_uri": "https://localhost:8080/",
     "height": 35
    },
    "id": "z86xHRi9rrQ0",
    "outputId": "a5e3e0f6-b3ba-41fb-c81b-a19ac107765c"
   },
   "outputs": [],
   "source": [
    "dizionario[\"chiave1\"]"
   ]
  },
  {
   "cell_type": "code",
   "execution_count": null,
   "metadata": {
    "colab": {
     "base_uri": "https://localhost:8080/"
    },
    "id": "6oUEOuyTrs4f",
    "outputId": "abad5560-e080-4900-ed67-a0e24125900f"
   },
   "outputs": [],
   "source": [
    "dizionario[123456789]"
   ]
  },
  {
   "cell_type": "markdown",
   "metadata": {},
   "source": [
    "I dizionari hanno a disposizione alcune funzioni per conoscerne le caratteristiche:"
   ]
  },
  {
   "cell_type": "code",
   "execution_count": null,
   "metadata": {},
   "outputs": [],
   "source": [
    "display(dizionario.keys())     # Visualizza l'elenco delle chiavi\n",
    "display(dizionario.values())   # Visualizza l'elenco dei valori\n",
    "display(dizionario.items())    # Visualizza l'elenco delle coppie (chiave, valore)"
   ]
  },
  {
   "cell_type": "markdown",
   "metadata": {},
   "source": [
    "Come si crea una nuova coppia chiave-valore in un dizionario già esistente?"
   ]
  },
  {
   "cell_type": "code",
   "execution_count": null,
   "metadata": {},
   "outputs": [],
   "source": [
    "# Con questa sintassi creaiamo una nuova chiave SOLO se questa non è ancora presente nel dizionario!\n",
    "dizionario[\"chiave3\"] = 200\n",
    "display(dizionario)\n",
    "\n",
    "# Con la stessa sintassi, possiamo SOVRASCRIVERE il valore associato ad una chiave già esistente\n",
    "dizionario[\"chiave3\"] = 1\n",
    "display(dizionario)"
   ]
  },
  {
   "cell_type": "code",
   "execution_count": null,
   "metadata": {
    "colab": {
     "base_uri": "https://localhost:8080/"
    },
    "id": "UchhYStkrvXi",
    "outputId": "cddb54d0-11ad-4498-a338-5cbbdaa228c0"
   },
   "outputs": [],
   "source": [
    "try:\n",
    "    dizionario[1]\n",
    "except KeyError:  # Errore generato quando una chiave non è presente\n",
    "    print(\"Chiave non presente. I dizionari non supportano l'indicizzazione perchè non sono ordinati!\")"
   ]
  },
  {
   "cell_type": "code",
   "execution_count": null,
   "metadata": {
    "id": "0vITPsh8hjmZ"
   },
   "outputs": [],
   "source": [
    "ingredienti = {\"torta\": [\"cioccolato\", \"burro\", \"uova\"], \n",
    "               \"biscotti\": [\"farina\", \"uova\", \"nutella\"], \n",
    "               \"gelato\": [\"latte\", \"panna\", \"zucchero\"]}"
   ]
  },
  {
   "cell_type": "code",
   "execution_count": null,
   "metadata": {
    "colab": {
     "base_uri": "https://localhost:8080/"
    },
    "id": "dw0f-JpzixF5",
    "outputId": "e96d70c7-ecf2-4fb5-b6d2-628ce83757fb"
   },
   "outputs": [],
   "source": [
    "cibo = \"torta\"\n",
    "print(\"Gli ingredienti di \" + cibo + \" sono: \" + \", \".join(ingredienti[cibo]))"
   ]
  },
  {
   "cell_type": "code",
   "execution_count": null,
   "metadata": {
    "colab": {
     "base_uri": "https://localhost:8080/"
    },
    "id": "aaVujRDYjOke",
    "outputId": "3ee2a484-472d-45f1-c7a4-2e9efb839c47"
   },
   "outputs": [],
   "source": [
    "cibo = \"gelato\"\n",
    "print(\"Gli ingredienti di \" + cibo + \" sono: \" + \", \".join(ingredienti[cibo]))"
   ]
  },
  {
   "cell_type": "code",
   "execution_count": null,
   "metadata": {
    "id": "lq-ennmFryUJ"
   },
   "outputs": [],
   "source": [
    "# I set\n",
    "insieme = set([\"A\", \"a\", \"C\", 3])  # I set devono essere creati da oggetti iterabili, come le liste\n",
    "# I set sono identificati da parentesi graffe nell'output"
   ]
  },
  {
   "cell_type": "markdown",
   "metadata": {},
   "source": [
    "I set sono molto utili per escludere duplicati da collezioni già esistenti"
   ]
  },
  {
   "cell_type": "code",
   "execution_count": null,
   "metadata": {
    "id": "8hH3R19OjqAY"
   },
   "outputs": [],
   "source": [
    "# Io e i miei amici dobbiamo decidere dove andare in viaggio questa estate e vogliamo escludere i posti dove siamo già stati\n",
    "luca_gia_stato = [\"Londra\", \"Madrid\", \"Berlino\"]\n",
    "jacopo_gia_stato = [\"Parigi\", \"Vienna\", \"Berlino\"]\n",
    "daniele_gia_stato = [\"Mosca\", \"Madrid\", \"Dublino\"]"
   ]
  },
  {
   "cell_type": "code",
   "execution_count": null,
   "metadata": {
    "colab": {
     "base_uri": "https://localhost:8080/"
    },
    "id": "ko93JeydkHoS",
    "outputId": "ec3f3265-e1a3-418c-fc25-f8456ff34f4b"
   },
   "outputs": [],
   "source": [
    "luca_gia_stato + jacopo_gia_stato + daniele_gia_stato"
   ]
  },
  {
   "cell_type": "code",
   "execution_count": null,
   "metadata": {
    "colab": {
     "base_uri": "https://localhost:8080/"
    },
    "id": "clcd2ZM7kLs6",
    "outputId": "10160491-9b2a-4f4d-96b3-95af6dcd1907"
   },
   "outputs": [],
   "source": [
    "set(luca_gia_stato + jacopo_gia_stato + daniele_gia_stato)"
   ]
  },
  {
   "cell_type": "code",
   "execution_count": null,
   "metadata": {
    "id": "dfPHf0-ZvVR5"
   },
   "outputs": [],
   "source": [
    "# Le tuple\n",
    "tupla = (\"A\", \"B\", 1)"
   ]
  },
  {
   "cell_type": "code",
   "execution_count": null,
   "metadata": {},
   "outputs": [],
   "source": [
    "# Le tuple possono essere definite anche solo tramite l'elenco ordinato separato da virgole, senza bisogno di usare le parentesi tonde\n",
    "tupla2 = 1, 2, 3\n",
    "tupla2"
   ]
  },
  {
   "cell_type": "code",
   "execution_count": null,
   "metadata": {
    "colab": {
     "base_uri": "https://localhost:8080/",
     "height": 35
    },
    "id": "9e-JNwYIvbJF",
    "outputId": "4b1ee03b-9e3f-48c3-ed9b-1d7cc2d667e8"
   },
   "outputs": [],
   "source": [
    "tupla[1]"
   ]
  },
  {
   "cell_type": "code",
   "execution_count": null,
   "metadata": {},
   "outputs": [],
   "source": [
    "len(tupla)"
   ]
  },
  {
   "cell_type": "markdown",
   "metadata": {
    "id": "IhKl-tdbAmuy"
   },
   "source": [
    "## Operatori\n",
    "\n",
    "Operazioni matematiche più comuni:\n",
    "* \\+\n",
    "* \\-\n",
    "* /\n",
    "* \\*\n",
    "* %: modulo, ovvero restituisce il resto della divisione (11 % 2 --> 1)\n",
    "\n",
    "Operatori logici:\n",
    "* <\n",
    "* \\>\n",
    "* <=\n",
    "* \\>=\n",
    "* == --> uguale a\n",
    "* != --> diverso da\n",
    "\n",
    "In alcuni casi possiamo utilizzare operatori logici letterali nelle nostre condizioni:\n",
    "* `not`: per negare una condizione\n",
    "* `in`: per verificare se una variabile è presente in una collezione (lista o set, ad esempio)\n",
    "* `is`: per verificare l'uguaglianza tra due variabili"
   ]
  },
  {
   "cell_type": "markdown",
   "metadata": {
    "id": "GcgPNN1b0j56"
   },
   "source": [
    "## Espressioni condizionali e cicli"
   ]
  },
  {
   "cell_type": "code",
   "execution_count": null,
   "metadata": {
    "colab": {
     "base_uri": "https://localhost:8080/",
     "height": 34
    },
    "id": "dSYatJyMBn0S",
    "outputId": "60de4fb4-a36e-4181-8fe6-8b6098029df4"
   },
   "outputs": [],
   "source": [
    "condizione = True\n",
    "if condizione:\n",
    "    print(\"Condizione era vera!\")\n",
    "else:\n",
    "    print(\"Condizione era falsa!\")"
   ]
  },
  {
   "cell_type": "code",
   "execution_count": null,
   "metadata": {
    "colab": {
     "base_uri": "https://localhost:8080/",
     "height": 34
    },
    "id": "KjouwU3DB0Kq",
    "outputId": "e5f5b052-609d-461e-c9b9-967929303ed1"
   },
   "outputs": [],
   "source": [
    "condizione = False\n",
    "if condizione:\n",
    "    print(\"Condizione era vera!\")\n",
    "else:\n",
    "    print(\"Condizione era falsa!\")"
   ]
  },
  {
   "cell_type": "markdown",
   "metadata": {},
   "source": [
    "Possiamo creare espressioni logiche anche più complesse da inserire negli `if`. Ad esempio, possiamo verificare se una lista è vuota oppure contiene qualche valore prima di effettuare altre operazioni"
   ]
  },
  {
   "cell_type": "code",
   "execution_count": null,
   "metadata": {},
   "outputs": [],
   "source": [
    "lista = []\n",
    "if len(lista) == 0:\n",
    "    print(\"Condizione era vera!\")\n",
    "else:\n",
    "    print(\"Condizione era falsa!\")"
   ]
  },
  {
   "cell_type": "markdown",
   "metadata": {},
   "source": [
    "Esiste anche la clausola `elif`, che permette di concatenare più condizioni e ramificare le scelte possibili."
   ]
  },
  {
   "cell_type": "code",
   "execution_count": null,
   "metadata": {},
   "outputs": [],
   "source": [
    "if a < 3:\n",
    "    print(\"ciao1\")\n",
    "elif 3 <= a < 6:\n",
    "    print(\"ciao2\")\n",
    "else:\n",
    "    print(\"ciao3\")"
   ]
  },
  {
   "cell_type": "markdown",
   "metadata": {
    "id": "_J5LUmz21nQf"
   },
   "source": [
    "Condizioni semplici come questa e che implicano l'assegnamento di un valore ad una variabile possono essere riscritti in maniera più leggibile e chiara in questo modo:"
   ]
  },
  {
   "cell_type": "code",
   "execution_count": null,
   "metadata": {
    "colab": {
     "base_uri": "https://localhost:8080/"
    },
    "id": "knCMV0_01wOj",
    "outputId": "19bf64fb-1bb2-4c03-b0d0-6230bdc2c5fb"
   },
   "outputs": [],
   "source": [
    "condizione = True\n",
    "nuovo_valore = 10 if condizione else 100\n",
    "print(nuovo_valore)"
   ]
  },
  {
   "cell_type": "markdown",
   "metadata": {},
   "source": [
    "Se non siamo sicuri di come un'espressione sarà valutata, cioè se darà risultato vero o falso, possiamo usare la funzione `bool()` per fare dei test. Questa funzione prova a convertire una variabile o un'espressione a un booleano (cioè a un valore VERO o FALSO)."
   ]
  },
  {
   "cell_type": "code",
   "execution_count": null,
   "metadata": {},
   "outputs": [],
   "source": [
    "display(bool(True))   # True\n",
    "display(bool(False))  # False\n",
    "display(bool(0))      # False\n",
    "display(bool(1))      # True\n",
    "display(bool(1000))   # True! 1000 (o una variabile che contiene il valore 1000) viene valutata a True perché è definita e diversa zero\n",
    "display(bool(-300))   # True, come sopra\n",
    "display(bool([1, 2])) # True! La lista non è vuota, contiene dei valori. Viene valutata di default a True\n",
    "display(bool([]))     # False, la lista è vuota. Questo può essere un modo alternativo per verificare se una lista è vuota\n",
    "display(bool(\"ciao\")) # True! La stringa , non è vuota, contiene dei caratteri\n",
    "display(bool(\"\"))     # False, la stringa è vuota"
   ]
  },
  {
   "cell_type": "markdown",
   "metadata": {
    "id": "itvtsKn81__C"
   },
   "source": [
    "Vogliamo ora calcolare la somma dei primi `n` numeri. Questo è un modo in cui possiamo fare:"
   ]
  },
  {
   "cell_type": "code",
   "execution_count": null,
   "metadata": {
    "colab": {
     "base_uri": "https://localhost:8080/",
     "height": 102
    },
    "id": "iPEdIz33Bef-",
    "outputId": "75646248-7376-40f9-d6b6-8087d9a25634"
   },
   "outputs": [],
   "source": [
    "accumulatore = 0\n",
    "for i in range(5):\n",
    "    accumulatore = accumulatore + i # Sommo tutte le successive i\n",
    "    print(f\"Iterazione numero {i}. Accumulatore ha valore: {accumulatore}\")"
   ]
  },
  {
   "cell_type": "markdown",
   "metadata": {
    "id": "kP8zQwYdqTeN"
   },
   "source": [
    "Bonus! Alcuni cicli for con le liste possono essere scritti come *list comprehensions*, uno strumento molto utilizzato e utile."
   ]
  },
  {
   "cell_type": "code",
   "execution_count": null,
   "metadata": {
    "colab": {
     "base_uri": "https://localhost:8080/",
     "height": 34
    },
    "id": "e2H9Eyu9qRrB",
    "outputId": "3c32b14a-c2bd-4164-bd6c-9674a3a08807"
   },
   "outputs": [],
   "source": [
    "[c for c in range(5)]"
   ]
  },
  {
   "cell_type": "code",
   "execution_count": null,
   "metadata": {
    "colab": {
     "base_uri": "https://localhost:8080/",
     "height": 34
    },
    "id": "f18m2fYQqjZS",
    "outputId": "bb26a400-13bd-4fe4-9344-793ade15c74d"
   },
   "outputs": [],
   "source": [
    "[c for c in range(5) if c > 2]"
   ]
  },
  {
   "cell_type": "markdown",
   "metadata": {},
   "source": [
    "Esistono anche le *dict comprehension*."
   ]
  },
  {
   "cell_type": "code",
   "execution_count": null,
   "metadata": {},
   "outputs": [],
   "source": [
    "persone = [\"luca\", \"daniele\", \"jacopo\"]\n",
    "citta = [\"Ancona\", \"Milano\", \"Milano\"]\n",
    "\n",
    "indirizzi = {p: c for p, c in zip(persone, citta)}\n",
    "indirizzi"
   ]
  },
  {
   "cell_type": "markdown",
   "metadata": {
    "id": "8hU3vQTQ0bry"
   },
   "source": [
    "## Funzioni utili"
   ]
  },
  {
   "cell_type": "code",
   "execution_count": null,
   "metadata": {
    "colab": {
     "base_uri": "https://localhost:8080/"
    },
    "id": "VSKsn128_ZPt",
    "outputId": "b3ebf3ad-de3a-43f7-dcd3-dca2c7e12011"
   },
   "outputs": [],
   "source": [
    "print(\"Alcuni modi di creare stringhe:\")\n",
    "\n",
    "numero_parole = 9\n",
    "print(\"Sto stampando a schermo una stringa di \" + str(numero_parole) + \" parole\")\n",
    "print(\"Sto stampando a schermo una stringa di {} parole\".format(numero_parole))\n",
    "print(f\"Sto stampando a schermo una stringa di {numero_parole} parole\") # Stringa formattata, si indica con 'f' davanti agli apici"
   ]
  },
  {
   "cell_type": "code",
   "execution_count": null,
   "metadata": {
    "colab": {
     "base_uri": "https://localhost:8080/"
    },
    "id": "Td6zxHjPA2TD",
    "outputId": "2b31bbc3-aa32-45b1-e179-247dd75de0fb"
   },
   "outputs": [],
   "source": [
    "print(type(10))\n",
    "print(type(lista))\n",
    "\n",
    "# La funzione isisntance verifica se una data variabile è del tipo specificato.\n",
    "if isinstance(lista, list):\n",
    "    print(\"è una lista!\")"
   ]
  },
  {
   "cell_type": "markdown",
   "metadata": {
    "id": "ZAmr-yRrTJB8"
   },
   "source": [
    "## Programmazione ad oggetti: perchè devo sapere cosa è a grandi linee\n",
    "\n",
    "La maggior parte delle persone usa Python come linguaggio orientato agli oggetti. Cosa vuol dire? Sarebbe molto lungo spiegarlo, ma siccome alcune librerie utilizzano pesantemente questi concetti è meglio avere un posto, come referenza futura, dove questo è spiegato.\n",
    "\n",
    "Inoltre, molta documentazione va letta in questa chiave, quindi vale la pena spenderci 10 minuti.\n",
    "\n",
    "Nella programmazione ad oggetti tutto gira attorno a definire *oggetti*, i loro *attributi* e le cose che possono fare, ovvero delle funzioni chiamate *metodi*. I metodi sono specifiche del tipo di oggetto costruito (una *classe*). Normalmente succede quindi che si costruisce un istanza dell'oggetto che ci serve, e se ne usano le funzioni. Lo stato viene conservato dalla singola istanza dell'oggetto che abbiamo *costruito*."
   ]
  },
  {
   "cell_type": "markdown",
   "metadata": {
    "id": "LwwB5cMYOaT4"
   },
   "source": [
    "Usiamo un semplice esempio preso dalla data science, e in particolare sfruttiamo la classe `LinearRegression` della libreria `sklearn`.\n",
    "\n",
    "La classe `LinearRegression` è un oggetto che permette di costruire un modello lineare sui nostri dati, del tipo:\n",
    "\n",
    "y = α + β * x\n",
    "\n",
    "dove α rappresenta l'intercetta e β il coefficiente angolare della retta di regressione."
   ]
  },
  {
   "cell_type": "code",
   "execution_count": null,
   "metadata": {
    "id": "KaxNG0zMBTVe"
   },
   "outputs": [],
   "source": [
    "from sklearn.linear_model import LinearRegression"
   ]
  },
  {
   "cell_type": "code",
   "execution_count": null,
   "metadata": {
    "colab": {
     "base_uri": "https://localhost:8080/"
    },
    "id": "7O-JylG1OsGr",
    "outputId": "c787f616-e483-4114-a8bd-90f5b854e8ac"
   },
   "outputs": [],
   "source": [
    "# Costruiamo la NOSTRA istanza dell'oggetto LinearRegression\n",
    "model = LinearRegression()\n",
    "print(model)"
   ]
  },
  {
   "cell_type": "markdown",
   "metadata": {
    "id": "uIkyCzDCQUDT"
   },
   "source": [
    "Proviamo ora a costruire una retta di regressione su alcuni dati."
   ]
  },
  {
   "cell_type": "code",
   "execution_count": null,
   "metadata": {
    "colab": {
     "base_uri": "https://localhost:8080/"
    },
    "id": "dDyI-wYHQXwG",
    "outputId": "dff942b5-0add-4cc3-cab5-0fca4af491b4"
   },
   "outputs": [],
   "source": [
    "x = [[0], [1], [3], [4]]\n",
    "y = [[1], [3], [4], [5]]\n",
    "model.fit(x, y)   # NOTA che non viene restituito nessun output! Il risultato delle elaborazioni è salvato nello stato interno della classe, negli attributi"
   ]
  },
  {
   "cell_type": "markdown",
   "metadata": {
    "id": "jaZBW3qGRV8R"
   },
   "source": [
    "Dopo aver fittato il modello, proviamo ad utilizzarlo per avere una previsione."
   ]
  },
  {
   "cell_type": "code",
   "execution_count": null,
   "metadata": {
    "colab": {
     "base_uri": "https://localhost:8080/"
    },
    "id": "32qrVd9CRbjS",
    "outputId": "e1441165-79b3-4d22-8bf2-a879e7d4d3ef"
   },
   "outputs": [],
   "source": [
    "model.predict([[2]])"
   ]
  },
  {
   "cell_type": "markdown",
   "metadata": {
    "id": "ojYKO7f7O_JU"
   },
   "source": [
    "Ogni classe in genere contiene alcuni *attributi*, che determinano lo stato della classe. Osserviamo alcuni degli attributi della classe `LinearRegression`.\n",
    "\n",
    "Nel caso particolare della classe `LinearRegression`, questi attributi sono definiti solo dopo aver chiamato il metodo `.fit()`."
   ]
  },
  {
   "cell_type": "code",
   "execution_count": null,
   "metadata": {
    "colab": {
     "base_uri": "https://localhost:8080/"
    },
    "id": "enGqb2gDPKZi",
    "outputId": "d7818389-a0e2-4850-c962-f0420a9fab7f"
   },
   "outputs": [],
   "source": [
    "print(model.coef_)            # Valore dei coefficienti fittati (nel nostro caso il coefficiente angolare beta)\n",
    "print(model.intercept_)       # Valore dell'intercetta alfa\n",
    "print(model.n_features_in_)   # Numero di features date in input"
   ]
  },
  {
   "cell_type": "markdown",
   "metadata": {
    "id": "e12NeMqqRqEK"
   },
   "source": [
    "Gli attributi sono utili perché tengono traccia dello stato del nostro oggetto, che cambia solo dopo operazioni specifiche. In questo caso, lo stato ci permette di effettuare tutte le previsioni che vogliamo a fronte di aver allenato il modello una sola volta."
   ]
  },
  {
   "cell_type": "code",
   "execution_count": null,
   "metadata": {
    "colab": {
     "base_uri": "https://localhost:8080/"
    },
    "id": "HeppRxA2R8en",
    "outputId": "0753135d-bb3a-4a28-e5b0-19f1b5ab21a3"
   },
   "outputs": [],
   "source": [
    "print(model.predict([[3]]))\n",
    "print(model.predict([[0], [5], [9]]))"
   ]
  },
  {
   "cell_type": "markdown",
   "metadata": {
    "id": "Z1T-tXFC--T6"
   },
   "source": [
    "## Installare librerie\n",
    "\n",
    "Python contiene nella sua distribuzione base alcune librerie standard, molto comuni ed utilizzate, ad esempio:\n",
    "- `os`: per comunicare con il sistema operativo (ad es., listare file nelle cartella, lanciare comandi, ecc.);\n",
    "- `datetime`: per manipolazioni di date;\n",
    "- `logging`: per la scrittura dei log del programma;\n",
    "- `itertools`: alcune funzioni di utilità per ciclare in maniera efficace su liste e dizionari;\n",
    "\n",
    "e tantissime altre.\n",
    "\n",
    "Esiste inoltre un vasto ecosistema di librerie di terze parti, spessissimo sviluppate dalle community online, che permettono di accedere alle funzionalità più svariate, il tutto in modalità open source. Alcune di queste librerie hanno funzionalità molto generali e sono largamente utilizzate (ad esempio `pandas`, che vedremo nella prossima lezione), altre svolgono compiti molto specifici(ad esempio librerie che implementano particolari algoritmi numerici o statistici).\n",
    "\n",
    "In generale, se pensi di avere tra le mani un problema complesso che vorresti risolvere tramite Python, prima fai una bella ricerca in internet: quasi certemente qualcuno avrà già pubblicato una libreria che può fare al caso tuo ;)\n",
    "\n",
    "Per installare le librerie che di cui necessiti ci sono svariati modi, che dipendono anche dal sistema operativo su cui si sta lavorando. Su windows è disponibile il framework Anaconda che permette di installare le librerie necessarie tramite interfaccia grafica. Altrimenti si può procedere più a basso livello tramite programmi da linea di comando come [`conda`](https://docs.conda.io/en/latest/) o [`pip`](https://pip.pypa.io/en/stable/).\n",
    "\n",
    "L'altro riferimento da avere sempre presente quando si installato librerie esterne è il seguente: [Pypi](https://pypi.org/). Tutte le librerie raccolte in questo portale sono liberamente scaribili, e i vari comandi di installazione vanno ad attingere proprio da qui. Inoltre questo è un ottimo punto di partenza per informarsi sulle funzionalità della libreria e trovare i riferimenti alla documentazione aggiuntiva, al manuale utente e al codice sorgente."
   ]
  },
  {
   "cell_type": "markdown",
   "metadata": {},
   "source": [
    "## Extra"
   ]
  },
  {
   "cell_type": "markdown",
   "metadata": {},
   "source": [
    "### Mutabilità"
   ]
  },
  {
   "cell_type": "code",
   "execution_count": null,
   "metadata": {
    "colab": {
     "base_uri": "https://localhost:8080/"
    },
    "id": "nJOnnTJaykgg",
    "outputId": "8f066924-4f22-4798-f36b-fa2cdd9c92a3"
   },
   "outputs": [],
   "source": [
    "print(lista)\n",
    "lista[2] = 100\n",
    "print(lista)\n",
    "\n",
    "print(tupla)\n",
    "try:\n",
    "  tupla[2] = 100\n",
    "except TypeError as e:\n",
    "  print(e)\n"
   ]
  },
  {
   "cell_type": "code",
   "execution_count": null,
   "metadata": {},
   "outputs": [],
   "source": [
    "# Gli interi sono immutabili\n",
    "a = 3\n",
    "# Qui l'assegnamento è eseguito tramite copia\n",
    "b = a\n",
    "a = a +1\n",
    "print(a)\n",
    "print(b)\n",
    "\n",
    "# Le liste sono mutabili\n",
    "l1 = [1, 2, 3]\n",
    "# Qui l'assegnamento è eseguito tramite referenza (reference)\n",
    "l2 = l1\n",
    "l1[0] = 1000\n",
    "print(l1)\n",
    "print(l2)"
   ]
  },
  {
   "cell_type": "markdown",
   "metadata": {
    "id": "rEOm_hxdS3V4"
   },
   "source": [
    "### Gestione errori\n",
    "\n",
    "Spesso capiterà di incontrare errori durante l'esecuzione del codice. Gli errori commessi possono essere delle tipologie più svariate, da semplici typo nella scrittura delle variabili, fino ad arrivare agli errori logici nell'esecuzione del programma.\n",
    "\n",
    "Nella maggior parte dei casi, un errore corrisponde ad un utilizzo improprio o vietato di certe strutture dati o di classi e funzioni. In questi casi il programma si interrompe e fornisce una breve spiegazione dell'errore (sperabilmente parlante e di facile comprensione, ma non sempre è così)."
   ]
  },
  {
   "cell_type": "code",
   "execution_count": null,
   "metadata": {},
   "outputs": [],
   "source": [
    "1 / 0"
   ]
  },
  {
   "cell_type": "code",
   "execution_count": null,
   "metadata": {},
   "outputs": [],
   "source": [
    "dizionario[\"peppino\"]"
   ]
  },
  {
   "cell_type": "code",
   "execution_count": null,
   "metadata": {},
   "outputs": [],
   "source": [
    "moltiplica_per_due(model)"
   ]
  },
  {
   "cell_type": "markdown",
   "metadata": {},
   "source": [
    "Si può gestire un errore inaspettato tramite il costrutto `try ... except`. Questo permette di mantenere stabile il flusso del programma ed evitare che si interrompa anche se si verificano errori."
   ]
  },
  {
   "cell_type": "code",
   "execution_count": null,
   "metadata": {},
   "outputs": [],
   "source": [
    "try: \n",
    "    moltiplica_per_due(model)\n",
    "except:\n",
    "    print(\"errore\")\n",
    "    raise ValueError(\"Non si poteva fare\")"
   ]
  },
  {
   "cell_type": "markdown",
   "metadata": {},
   "source": [
    "Quando viene restituito un errore abbiamo due informazioni per ricostruire quello che è successo e correggere il problema:\n",
    "- la *tracebak*: ovvero la sequenza di chiamate a funzioni che ricostruisce il punto esatto del codice in cui l'errore si è verificato (attenzione che l'errore potrebbe però originarsi da un errore logico precedente nel codice!);\n",
    "- l'*exception* il messaggio di errore.\n",
    "\n",
    "Nella maggior parte dei casi, e con un po' di esperienza, queste informazioni sono sufficienti per eseguire la correzione. Se il problema è particolarmente ostico o si ha avuto un messaggio di errore mai visto prima o poco parlante, si può invece effettuare una ricerca su internet per verificare se è un errore comune e quali sono i contesti in cui si verifica.\n",
    "\n",
    "[Stackoverflow](https://stackoverflow.com/) è la risorsa principe per questo.\n",
    "\n",
    "In caso si fosse proprio alle strette, ci si può anche affidare ad una [paperella di gomma](https://en.wikipedia.org/wiki/Rubber_duck_debugging), il risultato è assicurato ;)"
   ]
  },
  {
   "cell_type": "markdown",
   "metadata": {},
   "source": [
    "### Lanciare codice da script\n",
    "\n",
    "Python è anche un linguaggio di scripting, cioè che si esegue tramite *script*. Uno *script* è semplicemente un file di testo in cui è contenuto il codice da eseguire.\n",
    "\n",
    "Vediamo un esempio."
   ]
  },
  {
   "cell_type": "markdown",
   "metadata": {
    "id": "q2L3K8so8HVl"
   },
   "source": [
    "## Conclusioni\n",
    "\n",
    "Questi spunti sono sufficienti ad affrontare lo strumento senza perdersi in ricerche di Google poco profittevoli. La realtà è che, anche dopo anni di esperienza, tutti i programmatori si rivologono a una sana ricerca in internet se non sanno come fare qualcosa di specifico. \n",
    "\n",
    "Il consiglio finale è il seguente: grazie a strumenti come i Notebook è possibile provare tutti questi concetti in tempo zero da un semplice browser, riducendo di molto la difficoltà di entrata. **Non ci sono scuse per non provare** a fare qualche piccola modifica a questo codice e vedere come si comporta, magari cercando in Google la soluzione se le cose non vanno come previsto."
   ]
  },
  {
   "cell_type": "markdown",
   "metadata": {},
   "source": [
    "# Link utili\n",
    "- Funzioni python built-in: https://docs.python.org/3.10/library/functions.html\n",
    "- scikit-learn: https://scikit-learn.org/stable/\n",
    "- stackoverflow: https://stackoverflow.com/\n",
    "- PyPI: https://pypi.org/\n",
    "- github: https://github.com/"
   ]
  }
 ],
 "metadata": {
  "colab": {
   "collapsed_sections": [
    "96ple3eNv_pG"
   ],
   "name": "2022xxxx_Bosch_DATATraining_IntroPython",
   "provenance": []
  },
  "kernelspec": {
   "display_name": "Python 3 (ipykernel)",
   "language": "python",
   "name": "python3"
  },
  "language_info": {
   "codemirror_mode": {
    "name": "ipython",
    "version": 3
   },
   "file_extension": ".py",
   "mimetype": "text/x-python",
   "name": "python",
   "nbconvert_exporter": "python",
   "pygments_lexer": "ipython3",
   "version": "3.10.4"
  },
  "vscode": {
   "interpreter": {
    "hash": "3a9d73fb47381a1b8ded82af0c6bbb1bb575d37a189d0f890af9fc3cb2206f84"
   }
  }
 },
 "nbformat": 4,
 "nbformat_minor": 4
}
