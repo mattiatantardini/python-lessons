{
 "cells": [
  {
   "cell_type": "markdown",
   "metadata": {
    "id": "ARokcxWYUJB6"
   },
   "source": [
    "# Manage your data\n",
    "\n",
    "In questa lezione andremo alla scoperta della libreria [`pandas`](https://pandas.pydata.org/), una libreria usatissima in tutti i progetti di data science. `pandas` permette di manipolare e trasformare i propri dati in maniera semplice e veloce."
   ]
  },
  {
   "cell_type": "markdown",
   "metadata": {
    "id": "jQYasdK6Uklf"
   },
   "source": [
    "## Link utili\n",
    "Se hai un problema con un comando di pandas o non sai come eseguire una certa operazione, il primo posto in cui cercare informazioni è sicuramente la [documentazione](https://pandas.pydata.org/docs/). In particolare, la documentazione è divisa in diverse sezioni:\n",
    "- *get started*: intro e tutorial a pandas;\n",
    "- *user guide*: nozioni sulle logiche utilizzate nel costruire la libreria, che permettono di capire meglio il suo funzionamento e il suo comportamento\n",
    "- *API reference*: la sezione dedicata alla documentazione completa e alla spiegazione dei singoli oggetti e funzioni esistenti in `pandas`. A volte il termine *API* è utilizzato come sinonimo di *funzioni*."
   ]
  },
  {
   "cell_type": "markdown",
   "metadata": {
    "id": "fjMnvN56VjkY"
   },
   "source": [
    "## Intro to `pandas`\n",
    "\n",
    "Cominciamo ad esplorare le funzionalità di questa libreria.\n",
    "\n",
    "La prima cosa da sapere è che `pandas` definisce due classi principali tramite cui gestire i dati: le `Series` e i `DataFrame`.\n",
    "\n",
    "Puoi intendere una `Series` come una singola *colonna* di dati, ovvero una lista di elementi. I `DataFrame` invece sono *tabelle* di dati, con righe e colonne. Di fatto, un `DataFrame` è l'accostamento di più `Series` una accanto all'altra."
   ]
  },
  {
   "cell_type": "code",
   "execution_count": null,
   "metadata": {
    "id": "Ka1RtB3JWOdK"
   },
   "outputs": [],
   "source": [
    "import pandas as pd"
   ]
  },
  {
   "cell_type": "markdown",
   "metadata": {
    "id": "M1p6aTjJWH0o"
   },
   "source": [
    "### pd.Series"
   ]
  },
  {
   "cell_type": "code",
   "execution_count": null,
   "metadata": {
    "colab": {
     "base_uri": "https://localhost:8080/"
    },
    "id": "pS0vKPJlWLoK",
    "outputId": "639e14fa-e921-4819-9af0-830c66a5cda0"
   },
   "outputs": [],
   "source": [
    "my_series = pd.Series([1, 2, 3, 4])\n",
    "my_series"
   ]
  },
  {
   "cell_type": "code",
   "execution_count": null,
   "metadata": {
    "colab": {
     "base_uri": "https://localhost:8080/"
    },
    "id": "LqtEpT_qWWhu",
    "outputId": "8414fdca-305b-49ab-fc8d-f71c5d09ff30"
   },
   "outputs": [],
   "source": [
    "my_series_str = pd.Series([\"a\", \"b\", \"c\", \"d\"])\n",
    "my_series_str"
   ]
  },
  {
   "cell_type": "markdown",
   "metadata": {
    "id": "NfhsgqohWdlZ"
   },
   "source": [
    "Osserviamo che:\n",
    "- le `Series` possono contenere un qualsiasi tipo di dato (nel nostro esempio, intero o stringa). Lo stesso vale per i `DataFrame`.\n",
    "- i dati sono riportati in colonna. Ma vediamo due colonne! I nostri dati sono nella colonna più a destra. La colonna a sinistra, allineata con i nostri dati, rappresenta *l'indice* della serie. Parleremo degli indici più avanti."
   ]
  },
  {
   "cell_type": "markdown",
   "metadata": {
    "id": "jPSXNYYvXJAc"
   },
   "source": [
    "Le `Series` sono oggetti che hanno a disposizione moltissimi metodi per operare sui dati. Queste operazioni possono essere di diverso tipo:"
   ]
  },
  {
   "cell_type": "code",
   "execution_count": null,
   "metadata": {
    "colab": {
     "base_uri": "https://localhost:8080/"
    },
    "id": "YIr2hn8GWb-p",
    "outputId": "27d052c2-e952-4a61-fd91-4bc6385400fc"
   },
   "outputs": [],
   "source": [
    "my_series.sum()"
   ]
  },
  {
   "cell_type": "code",
   "execution_count": null,
   "metadata": {
    "colab": {
     "base_uri": "https://localhost:8080/"
    },
    "id": "6PZltF0xXA_p",
    "outputId": "599ee1a5-99f5-49df-c932-679d6d5d833b"
   },
   "outputs": [],
   "source": [
    "my_series.shift(1)"
   ]
  },
  {
   "cell_type": "markdown",
   "metadata": {
    "id": "1mdoH8Y-XU4_"
   },
   "source": [
    "### pd.DataFrame"
   ]
  },
  {
   "cell_type": "code",
   "execution_count": null,
   "metadata": {
    "colab": {
     "base_uri": "https://localhost:8080/",
     "height": 175
    },
    "id": "HnH9JiPIXDjh",
    "outputId": "ebe7c4af-65b3-44ef-bbbd-73f4cda893e6"
   },
   "outputs": [],
   "source": [
    "df = pd.DataFrame(\n",
    "    data={\"colonna1\": my_series, \"colonna2\": my_series_str, \"colonna3\": [1.4, \"cane\", 7, \"gatto\"]},\n",
    "    index=range(4), # Specificando l'index possiamo gestire anche la creazione di dataframe a partire da colonne non tutte della stessa lunghezza\n",
    ")\n",
    "display(df)"
   ]
  },
  {
   "cell_type": "markdown",
   "metadata": {
    "id": "bWNkhEdUXrKK"
   },
   "source": [
    "Abbiamo costruito un dataframe in un modo piuttosto standard, ma che garantisce una certa flessibilità. Innanzitutto abbiamo costruito il dataframe *per colonne* (ma si può fare anche *per righe*), specificando per le prime due colonne le serie che avevamo costruito in precedenza. Nella terza colonna abbiamo incluso una nuova lista di dati.\n",
    "\n",
    "Notiamo che anche il dataframe ha un indice, indicato sulla sinistra. Ad ogni colonna è assegnato un nome. Qui l'abbiamo specificato noi, ma se non lo facciamo è assegnato un valore di default. L'insieme delle colonne costituisce un altro *indice*."
   ]
  },
  {
   "cell_type": "code",
   "execution_count": null,
   "metadata": {
    "colab": {
     "base_uri": "https://localhost:8080/"
    },
    "id": "v52F3wRZXmGs",
    "outputId": "cf96eaf0-7a78-40c0-ae7f-6ec713b6d68d"
   },
   "outputs": [],
   "source": [
    "print(df.index) # indice sulle righe\n",
    "print(df.columns) # indice sulle colonne"
   ]
  },
  {
   "cell_type": "code",
   "execution_count": null,
   "metadata": {
    "colab": {
     "base_uri": "https://localhost:8080/"
    },
    "id": "2H57f7WYYSkZ",
    "outputId": "af03addc-ba14-4632-8a14-aa6a64928238"
   },
   "outputs": [],
   "source": [
    "display(df[\"colonna1\"])                # otteniamo una serie\n",
    "display(df[[\"colonna1\", \"colonna2\"]])  # NOTA la lista di nomi delle colonne! --> otteniamo un DataFrame perché stiamo selezionando più colonne\n",
    "display(df[[\"colonna1\"]])              # NOTA che usando la lista, otteniamo comunque un dataframe"
   ]
  },
  {
   "cell_type": "markdown",
   "metadata": {
    "id": "6TSZA2haYyi2"
   },
   "source": [
    "Anche sui dataframe si possono fare moltissime operazioni. Vediamone alcune."
   ]
  },
  {
   "cell_type": "code",
   "execution_count": null,
   "metadata": {
    "colab": {
     "base_uri": "https://localhost:8080/"
    },
    "id": "1UosjgS2YVib",
    "outputId": "ef748e26-157f-438c-96dd-a05dff4b73fe"
   },
   "outputs": [],
   "source": [
    "df[[\"colonna1\", \"colonna2\"]].sum()"
   ]
  },
  {
   "cell_type": "code",
   "execution_count": null,
   "metadata": {
    "colab": {
     "base_uri": "https://localhost:8080/",
     "height": 175
    },
    "id": "_zhwxe0pY8ib",
    "outputId": "8dbd3091-1f27-4b49-c9dd-e9c3684483f0"
   },
   "outputs": [],
   "source": [
    "df.shift(1)"
   ]
  },
  {
   "cell_type": "code",
   "execution_count": null,
   "metadata": {
    "colab": {
     "base_uri": "https://localhost:8080/",
     "height": 175
    },
    "id": "TN1TkVmnZAJq",
    "outputId": "1528138d-9abe-4b2b-e9b5-0442604257a2"
   },
   "outputs": [],
   "source": [
    "display(df.drop(columns=\"colonna3\"))\n",
    "display(df.drop(index=[0, 1]))"
   ]
  },
  {
   "cell_type": "code",
   "execution_count": null,
   "metadata": {
    "colab": {
     "base_uri": "https://localhost:8080/",
     "height": 175
    },
    "id": "EUGb0Y17ZI2j",
    "outputId": "3ca24232-011d-4399-b578-5374f834a236"
   },
   "outputs": [],
   "source": [
    "df.rename(columns={\"colonna3\": \"nuovo nome\"})"
   ]
  },
  {
   "cell_type": "code",
   "execution_count": null,
   "metadata": {
    "colab": {
     "base_uri": "https://localhost:8080/",
     "height": 175
    },
    "id": "hl2A4EpcZCqS",
    "outputId": "e5f21093-da68-47c3-f408-4168e0778512"
   },
   "outputs": [],
   "source": [
    "df.shift(1).fillna(\"ciao!\")"
   ]
  },
  {
   "cell_type": "markdown",
   "metadata": {},
   "source": [
    "Possiamo anche aggiungere nuove righe e colonne"
   ]
  },
  {
   "cell_type": "code",
   "execution_count": null,
   "metadata": {},
   "outputs": [],
   "source": [
    "df[\"nuova colonna\"] = [0, 0, 0, 0]\n",
    "df"
   ]
  },
  {
   "cell_type": "code",
   "execution_count": null,
   "metadata": {},
   "outputs": [],
   "source": [
    "nuova_riga = {\"colonna1\": 5, \"colonna2\": \"e\", \"colonna3\": 100, \"nuova colonna\": 0}\n",
    "df = pd.concat(\n",
    "    [\n",
    "        df, \n",
    "        pd.DataFrame(nuova_riga, index=[0])\n",
    "    ], \n",
    "    axis=\"index\").reset_index(drop=True)\n",
    "df"
   ]
  },
  {
   "cell_type": "markdown",
   "metadata": {},
   "source": [
    "### Selezione di colonne e righe"
   ]
  },
  {
   "cell_type": "markdown",
   "metadata": {},
   "source": [
    "Abbiamo già visto come selezionare colonne singole o multiple. Questo si può fare anche simultaneamente alla selezione delle righe.\n",
    "\n",
    "Esistono due funzioni che permettono in maniera piuttosto chiara di effetture delle selezioni del nostro dataframe:\n",
    "- `.loc`: funziona con i nomi (cioè le etichette, che possono anche essere dei numeri interi, come succede spesso ad esempio per le righe) degli indici (ad esempio, i nomi delle colonne) o liste/serie di booleani;\n",
    "- `.iloc`: permette di tagliare il dataset grazie a numeri interi (da cui la `i` iniziale). È utile quindi se vogliamo tagliare le righe 2 alla 4, o selezionare le prime 2 colonne. "
   ]
  },
  {
   "cell_type": "code",
   "execution_count": null,
   "metadata": {},
   "outputs": [],
   "source": [
    "display(df.loc[:, [\"colonna2\", \"colonna3\"]])\n",
    "display(df.loc[3:4, [\"colonna2\", \"colonna3\"]])  # ATTENZIONE! Qui '3:4' non sono gli indici, ma le ETICHETTE (cioè il nome dell'indice) delle righe\n",
    "display(df.loc[:3, [\"colonna2\", \"colonna3\"]])\n",
    "\n",
    "# Con .iloc mettiamo per le righe le POSIZIONI che vogliamo estrarre\n",
    "display(df.iloc[3:4, [1,2]])  # Qui vogliamo prendere la terza riga\n",
    "display(df.iloc[3:5, [0, 3]])"
   ]
  },
  {
   "cell_type": "markdown",
   "metadata": {
    "id": "dBqo06jEZZkP"
   },
   "source": [
    "### Gli indici\n",
    "Come abbiamo visto, le `Series` hanno un solo indice (sulle righe), mentre i `DataFrame` ne hanno due (uno per le righe e uno per le colonne). \n",
    "\n",
    "Gli indici sono uno strumento utilizzato da `pandas` per facilitare la ricerca di righe o colonne specifiche quando si effettuano filtri e per avere delle label che identifichino in modo chiaro i nostri dati. Consentono anche di fare diverse ottimizzazioni su operazioni che coinvolgono ad esempio serie temporali. Esistono anche i `MultiIndex`, ovvero indici con più livelli, che possono essere utili in molte situazioni, ma richiedono spesso una complessità di gestione non banale, e sono quindi utilizzati solo in casi in cui davvero non se ne può fare a meno.\n",
    "\n",
    "In queste lezioni probabilmente non ci capiterà di fare operazioni complesse con gli indici, ma è importante sapere che esistono perché alcune operazioni eseguite dalle funzioni di `pandas` danno un risultato che dipende proprio dal valore degli indici.\n",
    "\n",
    "Può succedere infatti che, a seguito di manipolazioni del dato, il valore dell'indice del nostro dataframe cambi e, se non ce ne accorgiamo, la successiva applicazione di un'operazione che agisce sugli indici può portare ad un risultato scorretto e che non ci aspettiamo. Questo succede spesso usando funzioni che coinvolgono due diversi dataframe.\n",
    "\n",
    "Se incontreremo problemi legati agli indici, vedremo di volta in volta come riconoscerli e affrontarli."
   ]
  },
  {
   "cell_type": "markdown",
   "metadata": {},
   "source": [
    "# Link utili\n",
    "\n",
    "- Scrivere in markdown nelle celle: https://docs.github.com/en/github/writing-on-github/basic-writing-and-formatting-syntax\n",
    "\n",
    "- Pandas Cheatsheet: https://pandas.pydata.org/Pandas_Cheat_Sheet.pdf\n",
    "\n",
    "- Python Data Science Handbook: libro di riferimento per la manipolazione dei dati e il lavoro con i dati (disponibile gratuitamente qui): https://colab.research.google.com/github/jakevdp/PythonDataScienceHandbook/blob/master/notebooks/Index.ipynb\n",
    "\n",
    "- Guida ufficiale di Pandas (Ottima documentazione con esempi molto completa): https://pandas.pydata.org/pandas-docs/stable/user_guide/basics.html#essential-basic-functionality"
   ]
  }
 ],
 "metadata": {
  "colab": {
   "collapsed_sections": [],
   "name": "202207xx_Bosch_DATATraining_Pandas",
   "provenance": []
  },
  "kernelspec": {
   "display_name": "Python 3 (ipykernel)",
   "language": "python",
   "name": "python3"
  },
  "language_info": {
   "codemirror_mode": {
    "name": "ipython",
    "version": 3
   },
   "file_extension": ".py",
   "mimetype": "text/x-python",
   "name": "python",
   "nbconvert_exporter": "python",
   "pygments_lexer": "ipython3",
   "version": "3.8.10"
  },
  "vscode": {
   "interpreter": {
    "hash": "3a9d73fb47381a1b8ded82af0c6bbb1bb575d37a189d0f890af9fc3cb2206f84"
   }
  }
 },
 "nbformat": 4,
 "nbformat_minor": 4
}
